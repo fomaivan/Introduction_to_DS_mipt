{
 "cells": [
  {
   "cell_type": "markdown",
   "metadata": {},
   "source": [
    "# <a href=\"https://miptstats.github.io/courses/ad_fivt.html\">Введение в анализ данных</a>\n",
    "## Домашнее задание 3. Простой анализ данных."
   ]
  },
  {
   "cell_type": "markdown",
   "metadata": {},
   "source": [
    "**Правила, <font color=\"red\">прочитайте внимательно</font>:**\n",
    "\n",
    "* Выполненную работу нужно отправить телеграм-боту `@miptstats_ds23_bot`. Для начала работы с ботом каждый раз отправляйте `/start`. Дождитесь подтверждения от бота, что он принял файл. Если подтверждения нет, то что-то не так. **Работы, присланные иным способом, не принимаются.**\n",
    "* Дедлайн см. в боте. После дедлайна работы не принимаются кроме случаев наличия уважительной причины.\n",
    "* Прислать нужно **ноутбук в формате `ipynb`**.\n",
    "* Телеграм не разрешает боту получать файлы более **20 Мб**. Если ваше решение весит больше, *заранее* разделите ноутбук на несколько.\n",
    "* Выполнять задание необходимо полностью самостоятельно. **При обнаружении списывания все участники списывания будут сдавать устный зачет.**\n",
    "* Решения, размещенные на каких-либо интернет-ресурсах, не принимаются. Кроме того, публикация решения в открытом доступе может быть приравнена к предоставлении возможности списать.\n",
    "* Для выполнения задания **используйте этот ноутбук в качестве основы, ничего не удаляя из него**. Можно добавлять необходимое количество ячеек.\n",
    "* Комментарии к решению пишите в markdown-ячейках.\n",
    "* Выполнение задания (ход решения, выводы и пр.) должно быть осуществлено на русском языке.\n",
    "* Если код будет не понятен проверяющему, оценка может быть снижена.\n",
    "* Никакой код из данного задания при проверке запускаться не будет. *Если код студента не выполнен, недописан и т.д., то он не оценивается.*\n",
    "\n",
    "**Перед выполнением задания посмотрите презентацию по выполнению и оформлению домашних заданий с занятия 2.**\n",
    "\n",
    "---\n",
    "\n",
    "**Баллы за задание:**\n",
    "\n",
    "<b><font color=\"blue\">Легкая часть</font></b> (достаточно на \"хор\"):\n",
    "* Задача 1 &mdash; 60 баллов\n",
    "\n",
    "<b><font color=\"orange\">Сложная часть</font></b> (необходимо на \"отл\"):\n",
    "* Задача 2 &mdash; 80 баллов\n",
    "\n",
    "---"
   ]
  },
  {
   "cell_type": "code",
   "execution_count": 11117,
   "metadata": {},
   "outputs": [],
   "source": [
    "# Bot check\n",
    "\n",
    "# HW_ID: fpmi_ad3\n",
    "# Бот проверит этот ID и предупредит, если случайно сдать что-то не то\n",
    "\n",
    "# Status: not final\n",
    "# Перед отправкой в финальном решении удали \"not\" в строчке выше\n",
    "# Так бот проверит, что ты отправляешь финальную версию, а не промежуточную"
   ]
  },
  {
   "cell_type": "code",
   "execution_count": 11118,
   "metadata": {
    "colab": {},
    "colab_type": "code",
    "id": "ht9Xm0EucoAr"
   },
   "outputs": [],
   "source": [
    "import numpy as np\n",
    "import pandas as pd\n",
    "import matplotlib.pyplot as plt\n",
    "import seaborn as sns\n",
    "\n",
    "sns.set(style='whitegrid', font_scale=1.3, palette='Set2')\n",
    "%matplotlib inline"
   ]
  },
  {
   "cell_type": "markdown",
   "metadata": {},
   "source": [
    "### <font color=\"blue\"><i>Легкая часть</i></font>\n",
    "\n",
    "\n",
    "### Задача 1."
   ]
  },
  {
   "cell_type": "markdown",
   "metadata": {},
   "source": [
    "На занятии мы уже <a href=\"https://miptstats.github.io/courses/ad_fivt/titanik.html\" target=\"_blank\">начинали</a> работать с датасетом Титаник. Сейчас ваша задача &mdash; на основе простого анализа предоставленных данных получить некоторое приближенное правило определения, выжил пассажир или нет.\n",
    "\n",
    "#### 1. Подготовка данных\n",
    "\n",
    "Загрузите данные с помощью `pandas`."
   ]
  },
  {
   "cell_type": "code",
   "execution_count": 11119,
   "metadata": {},
   "outputs": [],
   "source": [
    "df = pd.read_csv('titanic_data/train.csv', index_col=0)"
   ]
  },
  {
   "cell_type": "markdown",
   "metadata": {},
   "source": [
    "Разделите данные по строкам на две части случайным образом в соотношении 7:3. Первую часть мы будем называть *обучающей*, а вторую &mdash; *тестовой*."
   ]
  },
  {
   "cell_type": "code",
   "execution_count": 11120,
   "metadata": {},
   "outputs": [],
   "source": [
    "df_train = df.sample(frac=0.7)\n",
    "df_test = df.drop(df_train.index)"
   ]
  },
  {
   "cell_type": "markdown",
   "metadata": {},
   "source": [
    "Из каждой части оставим несколько признаков, с которыми мы будем работать, а также отдельно &mdash; целевой признак. Примените к обеим частям таблицы функцию ниже"
   ]
  },
  {
   "cell_type": "code",
   "execution_count": 11121,
   "metadata": {},
   "outputs": [],
   "source": [
    "features_columns = ['Pclass', 'Sex', 'Age', 'SibSp', 'Parch', 'Fare']\n",
    "target_column = 'Survived'  # Целевой признак\n",
    "\n",
    "def get_features_and_target(data):\n",
    "    features = data[features_columns]\n",
    "    target = data[target_column]\n",
    "    return features, target"
   ]
  },
  {
   "cell_type": "code",
   "execution_count": 11122,
   "metadata": {},
   "outputs": [],
   "source": [
    "new_df_train, train_target = get_features_and_target(df_train)\n",
    "new_df_test, test_target = get_features_and_target(df_test)"
   ]
  },
  {
   "cell_type": "markdown",
   "metadata": {},
   "source": [
    "#### 2. Исследование\n",
    "\n",
    "**Внимание.** Эта часть задачи должна выполняться *исключительно на обучающих данных*. За использование тестовых данных решение не будет оценено.\n",
    "\n",
    "Проведите визуальный анализ данных чтобы понять, как различные признаки влияют на целевой. Исследовать можно не целиком обучающие данные, а разделить их на две части по одному из признаков, а далее рассматривать каждую часть отдельно. \n",
    "\n",
    "*Не забывайте про информативность и эстетичность графиков.*"
   ]
  },
  {
   "cell_type": "code",
   "execution_count": 11123,
   "metadata": {},
   "outputs": [
    {
     "data": {
      "text/plain": [
       "<AxesSubplot:xlabel='Pclass', ylabel='Survived'>"
      ]
     },
     "execution_count": 11123,
     "metadata": {},
     "output_type": "execute_result"
    },
    {
     "data": {
      "image/png": "[encoded data removed]",
      "text/plain": [
       "<Figure size 640x480 with 1 Axes>"
      ]
     },
     "metadata": {},
     "output_type": "display_data"
    }
   ],
   "source": [
    "sns.barplot(x=new_df_train['Pclass'], y=train_target, capsize=0.1, palette='hls')"
   ]
  },
  {
   "cell_type": "markdown",
   "metadata": {},
   "source": [
    "# НАДО НАПИСАТЬ ОПИСАНИЕ"
   ]
  },
  {
   "cell_type": "code",
   "execution_count": 11136,
   "metadata": {},
   "outputs": [],
   "source": [
    "bin_labels = ['0-20', '20-40', '40-60', '60-80', '80-100']\n",
    "age_group_df = pd.DataFrame(new_df_test['Age'].fillna(new_df_train['Age'].mean()))\n",
    "age_group_df['AgeGroup'] = pd.cut(new_df_train['Age'], labels=bin_labels, bins=5)"
   ]
  },
  {
   "cell_type": "markdown",
   "metadata": {},
   "source": []
  },
  {
   "cell_type": "markdown",
   "metadata": {},
   "source": [
    "Здесь я разделил людей на группы по возрасту 1-ая группа 0-20 лет, 2-ая группа 20-40 лет и т.д."
   ]
  },
  {
   "cell_type": "markdown",
   "metadata": {},
   "source": []
  },
  {
   "cell_type": "code",
   "execution_count": 11137,
   "metadata": {},
   "outputs": [
    {
     "data": {
      "text/plain": [
       "<matplotlib.legend.Legend at 0x7f919d316f10>"
      ]
     },
     "execution_count": 11137,
     "metadata": {},
     "output_type": "execute_result"
    },
    {
     "data": {
      "image/png": "[encoded data removed]",
      "text/plain": [
       "<Figure size 640x480 with 1 Axes>"
      ]
     },
     "metadata": {},
     "output_type": "display_data"
    }
   ],
   "source": [
    "sns.barplot(x=age_group_df['AgeGroup'], y=train_target, capsize=0.1, palette='hls', hue=new_df_train['Sex'])\n",
    "plt.legend(bbox_to_anchor=(1, 1))"
   ]
  },
  {
   "cell_type": "markdown",
   "metadata": {},
   "source": [
    "# Написать описание графика"
   ]
  },
  {
   "cell_type": "markdown",
   "metadata": {},
   "source": [
    "#### 3. Классификация\n",
    "\n",
    "На основе проведенного исследования предложите два разных правила в виде решающего дерева, пример которого можете посмотреть в презентации с первой лекции (классификация котиков). Никакие статистические методы использовать не требуется, только логику и графики.\n",
    "\n",
    "В данной задаче достаточно, если первое дерево будет иметь максимальную глубину 2, а второе &mdash; глубину 1, и при этом не является поддеревом первого. *Примечание*: дерево из одного листа имеет глубину 0.\n",
    "\n",
    "**Дерево 1:**\n",
    "\n",
    "##### Делим сначала по полу, потом возрасту\n",
    "Мужчин старше 20-ти лет \"убиваем\"\n",
    "\n",
    "\n",
    "**Дерево 2:**\n",
    "\n",
    "##### Делим по классу\n",
    "Людей из 3-его класса \"убиваем\"\n",
    "\n",
    "Реализуйте полученные деревья по шаблону"
   ]
  },
  {
   "cell_type": "code",
   "execution_count": 11126,
   "metadata": {},
   "outputs": [],
   "source": [
    "def tree_sex_age(features):\n",
    "    '''\n",
    "    Предсказание целевого признака для данных features -- pandas-таблица данных.\n",
    "    Возвращает pandas.Series с теми же индексами, что и у features.\n",
    "    '''\n",
    "    data = pd.Series(1, index=features.index)\n",
    "    for i in features.index:\n",
    "        age = features.at[i, 'Age']\n",
    "        sex = features.at[i, 'Sex']\n",
    "        if age is np.nan:\n",
    "            age = new_df_train['Age'].mean()\n",
    "        if sex == 'male':\n",
    "            if age >= 20:\n",
    "                data[i] = 0\n",
    "            else:\n",
    "                data[i] = 1\n",
    "        elif sex == 'fmale':\n",
    "            data[i] = 1\n",
    "    return pd.Series(data)\n",
    "\n",
    "def tree_class(features):\n",
    "    data = {}\n",
    "    for i in features.index:\n",
    "        pclass = features.at[i, 'Pclass']\n",
    "        if pclass == 3:\n",
    "            data[i] = 0\n",
    "        else:\n",
    "            data[i] = 1\n",
    "    return pd.Series(data)"
   ]
  },
  {
   "cell_type": "markdown",
   "metadata": {},
   "source": [
    "#### 4. Качество\n",
    "\n",
    "Вспомним, что у нас имеется тестовая часть выборки. Самое время ее использовать для того, чтобы оценить, насколько хорошими получились деревья. Предложите какой-нибудь критерий качества.\n",
    "\n",
    "*Замечание*. Не стоит пытаться искать, какие критерии существуют. В данном случае легко предложить адекватный критерий. Стандартные критерии мы разберем позже, но для начала лучше подумать самостоятельно.\n",
    "\n",
    "**Критерий:**\n",
    "\n",
    "...\n",
    "\n",
    "Реализуйте данный критерий по шаблону"
   ]
  },
  {
   "cell_type": "code",
   "execution_count": 11127,
   "metadata": {
    "ExecuteTime": {
     "end_time": "2022-02-16T08:17:38.593742Z",
     "start_time": "2022-02-16T08:17:38.589775Z"
    }
   },
   "outputs": [],
   "source": [
    "def criteria(target : pd.Series, predicted : pd.Series):\n",
    "    '''\n",
    "    Вычисление критерия качества для предсказания predicted,\n",
    "    если истинные значения -- target.\n",
    "    Возвращает одно вещественное число.\n",
    "    '''\n",
    "    num_of_people = 0\n",
    "    num_of_true_res = 0\n",
    "    for i in target.index:\n",
    "        if not predicted.isna()[i]:\n",
    "            if target[i] == predicted[i]:\n",
    "                num_of_true_res += 1\n",
    "                num_of_people += 1\n",
    "            else:\n",
    "                num_of_people += 1\n",
    "    return num_of_true_res / num_of_people\n"
   ]
  },
  {
   "cell_type": "markdown",
   "metadata": {},
   "source": [
    " Посчитайте качество полученных ранее деревьев.\n",
    "\n",
    "*Примечание.* Полученные значения не влияют на оценку по задание. Оценивается только корректность и обоснованность решения, а также графики и выводы."
   ]
  },
  {
   "cell_type": "code",
   "execution_count": 11128,
   "metadata": {},
   "outputs": [
    {
     "data": {
      "text/plain": [
       "0.6292134831460674"
      ]
     },
     "execution_count": 11128,
     "metadata": {},
     "output_type": "execute_result"
    }
   ],
   "source": [
    "criteria(test_target.copy(), tree_class(new_df_test.copy()))"
   ]
  },
  {
   "cell_type": "code",
   "execution_count": 11129,
   "metadata": {},
   "outputs": [
    {
     "data": {
      "text/plain": [
       "0.7602996254681648"
      ]
     },
     "execution_count": 11129,
     "metadata": {},
     "output_type": "execute_result"
    }
   ],
   "source": [
    "criteria(test_target.copy(), tree_sex_age(new_df_test.copy()))"
   ]
  },
  {
   "cell_type": "markdown",
   "metadata": {},
   "source": [
    "**5. Метод ближайшего соседа**\n",
    "\n",
    "В домашнем задании 1 вы уже реализовали функцию поиска ближайших соседей. Теперь давайте применим ее для решения нашей текущей задачи. \n",
    "\n",
    "Реализуйте функцию, которая для каждого объекта тестового набора данных найдет $k$ ближайших соседей из обучающего набора данных, и в качестве ответа возьмет наиболее часто встречающееся значение целевого признака среди найденных соседей. Обратите внимание, что соседей необходимо искать только среди объектов обучающего набора данных."
   ]
  },
  {
   "cell_type": "code",
   "execution_count": 11130,
   "metadata": {},
   "outputs": [],
   "source": [
    "def find_nearest_points(A: np.ndarray, B: np.ndarray, k: int) -> np.ndarray:\n",
    "    B = B[:, np.newaxis, :]\n",
    "    A = A[np.newaxis, :, :]\n",
    "    temp = ((A - B) * (A - B)).sum(axis=2)\n",
    "    res = np.argsort(temp) + 1\n",
    "    return res[0:len(res), 0:k]\n",
    "\n",
    "def knn(features, train_features, train_target, k):\n",
    "    '''\n",
    "    Предсказание целевого признака для данных features -- pandas-таблица данных.\n",
    "    на основе обучающего набора данных train_features, train_target.\n",
    "    Возвращает pandas.Series с теми же индексами, что и у features.\n",
    "    Число k -- количество соседей.\n",
    "    '''\n",
    "    data_ = {}\n",
    "\n",
    "    copy_train_features = train_features.copy()\n",
    "    copy_features = features.copy()\n",
    "\n",
    "    copy_features['Sex'] = copy_features['Sex'].apply(lambda x: 0 if x == 'female' else 1)\n",
    "    copy_train_features['Sex'] = copy_train_features['Sex'].apply(lambda x : 0 if x == 'female' else 1)\n",
    "    # print(copy_features.reset_index())\n",
    "\n",
    "    tmp = find_nearest_points(copy_train_features.to_numpy(), copy_features.to_numpy(), k)\n",
    "\n",
    "    copy_features.reset_index(inplace=True)\n",
    "    for k in range(len(tmp)):\n",
    "        value = train_target.loc[tmp[k]]\n",
    "        final_value = value.value_counts().head(1)\n",
    "        idx = features.index[i]\n",
    "        # idx = copy_features.reset_index().index[i]\n",
    "        data_[idx] = final_value.index[0]\n",
    "    return pd.Series(data_)"
   ]
  },
  {
   "cell_type": "code",
   "execution_count": 11131,
   "metadata": {},
   "outputs": [
    {
     "ename": "KeyError",
     "evalue": "'[207] not in index'",
     "output_type": "error",
     "traceback": [
      "\u001B[0;31m---------------------------------------------------------------------------\u001B[0m",
      "\u001B[0;31mKeyError\u001B[0m                                  Traceback (most recent call last)",
      "\u001B[0;32m/var/folders/1w/v_pdz1hx607dnqpw4pt35zlm0000gn/T/ipykernel_1895/4292482716.py\u001B[0m in \u001B[0;36m<module>\u001B[0;34m\u001B[0m\n\u001B[1;32m      1\u001B[0m \u001B[0;31m# criteria(new_df_test.copy(), knn(new_df_test.copy(), new_df_train.copy(), train_target.copy(), 2))\u001B[0m\u001B[0;34m\u001B[0m\u001B[0;34m\u001B[0m\u001B[0m\n\u001B[0;32m----> 2\u001B[0;31m \u001B[0mknn\u001B[0m\u001B[0;34m(\u001B[0m\u001B[0mnew_df_test\u001B[0m\u001B[0;34m.\u001B[0m\u001B[0mcopy\u001B[0m\u001B[0;34m(\u001B[0m\u001B[0;34m)\u001B[0m\u001B[0;34m,\u001B[0m \u001B[0mnew_df_train\u001B[0m\u001B[0;34m.\u001B[0m\u001B[0mcopy\u001B[0m\u001B[0;34m(\u001B[0m\u001B[0;34m)\u001B[0m\u001B[0;34m,\u001B[0m \u001B[0mtrain_target\u001B[0m\u001B[0;34m.\u001B[0m\u001B[0mcopy\u001B[0m\u001B[0;34m(\u001B[0m\u001B[0;34m)\u001B[0m\u001B[0;34m,\u001B[0m \u001B[0;36m4\u001B[0m\u001B[0;34m)\u001B[0m\u001B[0;34m\u001B[0m\u001B[0;34m\u001B[0m\u001B[0m\n\u001B[0m\u001B[1;32m      3\u001B[0m \u001B[0;31m# new_df_test\u001B[0m\u001B[0;34m\u001B[0m\u001B[0;34m\u001B[0m\u001B[0m\n",
      "\u001B[0;32m/var/folders/1w/v_pdz1hx607dnqpw4pt35zlm0000gn/T/ipykernel_1895/2767428631.py\u001B[0m in \u001B[0;36mknn\u001B[0;34m(features, train_features, train_target, k)\u001B[0m\n\u001B[1;32m     26\u001B[0m     \u001B[0mcopy_features\u001B[0m\u001B[0;34m.\u001B[0m\u001B[0mreset_index\u001B[0m\u001B[0;34m(\u001B[0m\u001B[0minplace\u001B[0m\u001B[0;34m=\u001B[0m\u001B[0;32mTrue\u001B[0m\u001B[0;34m)\u001B[0m\u001B[0;34m\u001B[0m\u001B[0;34m\u001B[0m\u001B[0m\n\u001B[1;32m     27\u001B[0m     \u001B[0;32mfor\u001B[0m \u001B[0mk\u001B[0m \u001B[0;32min\u001B[0m \u001B[0mrange\u001B[0m\u001B[0;34m(\u001B[0m\u001B[0mlen\u001B[0m\u001B[0;34m(\u001B[0m\u001B[0mtmp\u001B[0m\u001B[0;34m)\u001B[0m\u001B[0;34m)\u001B[0m\u001B[0;34m:\u001B[0m\u001B[0;34m\u001B[0m\u001B[0;34m\u001B[0m\u001B[0m\n\u001B[0;32m---> 28\u001B[0;31m         \u001B[0mvalue\u001B[0m \u001B[0;34m=\u001B[0m \u001B[0mtrain_target\u001B[0m\u001B[0;34m.\u001B[0m\u001B[0mloc\u001B[0m\u001B[0;34m[\u001B[0m\u001B[0mtmp\u001B[0m\u001B[0;34m[\u001B[0m\u001B[0mk\u001B[0m\u001B[0;34m]\u001B[0m\u001B[0;34m]\u001B[0m\u001B[0;34m\u001B[0m\u001B[0;34m\u001B[0m\u001B[0m\n\u001B[0m\u001B[1;32m     29\u001B[0m         \u001B[0mfinal_value\u001B[0m \u001B[0;34m=\u001B[0m \u001B[0mvalue\u001B[0m\u001B[0;34m.\u001B[0m\u001B[0mvalue_counts\u001B[0m\u001B[0;34m(\u001B[0m\u001B[0;34m)\u001B[0m\u001B[0;34m.\u001B[0m\u001B[0mhead\u001B[0m\u001B[0;34m(\u001B[0m\u001B[0;36m1\u001B[0m\u001B[0;34m)\u001B[0m\u001B[0;34m\u001B[0m\u001B[0;34m\u001B[0m\u001B[0m\n\u001B[1;32m     30\u001B[0m         \u001B[0midx\u001B[0m \u001B[0;34m=\u001B[0m \u001B[0mfeatures\u001B[0m\u001B[0;34m.\u001B[0m\u001B[0mindex\u001B[0m\u001B[0;34m[\u001B[0m\u001B[0mi\u001B[0m\u001B[0;34m]\u001B[0m\u001B[0;34m\u001B[0m\u001B[0;34m\u001B[0m\u001B[0m\n",
      "\u001B[0;32m~/opt/anaconda3/lib/python3.9/site-packages/pandas/core/indexing.py\u001B[0m in \u001B[0;36m__getitem__\u001B[0;34m(self, key)\u001B[0m\n\u001B[1;32m    965\u001B[0m \u001B[0;34m\u001B[0m\u001B[0m\n\u001B[1;32m    966\u001B[0m             \u001B[0mmaybe_callable\u001B[0m \u001B[0;34m=\u001B[0m \u001B[0mcom\u001B[0m\u001B[0;34m.\u001B[0m\u001B[0mapply_if_callable\u001B[0m\u001B[0;34m(\u001B[0m\u001B[0mkey\u001B[0m\u001B[0;34m,\u001B[0m \u001B[0mself\u001B[0m\u001B[0;34m.\u001B[0m\u001B[0mobj\u001B[0m\u001B[0;34m)\u001B[0m\u001B[0;34m\u001B[0m\u001B[0;34m\u001B[0m\u001B[0m\n\u001B[0;32m--> 967\u001B[0;31m             \u001B[0;32mreturn\u001B[0m \u001B[0mself\u001B[0m\u001B[0;34m.\u001B[0m\u001B[0m_getitem_axis\u001B[0m\u001B[0;34m(\u001B[0m\u001B[0mmaybe_callable\u001B[0m\u001B[0;34m,\u001B[0m \u001B[0maxis\u001B[0m\u001B[0;34m=\u001B[0m\u001B[0maxis\u001B[0m\u001B[0;34m)\u001B[0m\u001B[0;34m\u001B[0m\u001B[0;34m\u001B[0m\u001B[0m\n\u001B[0m\u001B[1;32m    968\u001B[0m \u001B[0;34m\u001B[0m\u001B[0m\n\u001B[1;32m    969\u001B[0m     \u001B[0;32mdef\u001B[0m \u001B[0m_is_scalar_access\u001B[0m\u001B[0;34m(\u001B[0m\u001B[0mself\u001B[0m\u001B[0;34m,\u001B[0m \u001B[0mkey\u001B[0m\u001B[0;34m:\u001B[0m \u001B[0mtuple\u001B[0m\u001B[0;34m)\u001B[0m\u001B[0;34m:\u001B[0m\u001B[0;34m\u001B[0m\u001B[0;34m\u001B[0m\u001B[0m\n",
      "\u001B[0;32m~/opt/anaconda3/lib/python3.9/site-packages/pandas/core/indexing.py\u001B[0m in \u001B[0;36m_getitem_axis\u001B[0;34m(self, key, axis)\u001B[0m\n\u001B[1;32m   1192\u001B[0m                     \u001B[0;32mraise\u001B[0m \u001B[0mValueError\u001B[0m\u001B[0;34m(\u001B[0m\u001B[0;34m\"Cannot index with multidimensional key\"\u001B[0m\u001B[0;34m)\u001B[0m\u001B[0;34m\u001B[0m\u001B[0;34m\u001B[0m\u001B[0m\n\u001B[1;32m   1193\u001B[0m \u001B[0;34m\u001B[0m\u001B[0m\n\u001B[0;32m-> 1194\u001B[0;31m                 \u001B[0;32mreturn\u001B[0m \u001B[0mself\u001B[0m\u001B[0;34m.\u001B[0m\u001B[0m_getitem_iterable\u001B[0m\u001B[0;34m(\u001B[0m\u001B[0mkey\u001B[0m\u001B[0;34m,\u001B[0m \u001B[0maxis\u001B[0m\u001B[0;34m=\u001B[0m\u001B[0maxis\u001B[0m\u001B[0;34m)\u001B[0m\u001B[0;34m\u001B[0m\u001B[0;34m\u001B[0m\u001B[0m\n\u001B[0m\u001B[1;32m   1195\u001B[0m \u001B[0;34m\u001B[0m\u001B[0m\n\u001B[1;32m   1196\u001B[0m             \u001B[0;31m# nested tuple slicing\u001B[0m\u001B[0;34m\u001B[0m\u001B[0;34m\u001B[0m\u001B[0m\n",
      "\u001B[0;32m~/opt/anaconda3/lib/python3.9/site-packages/pandas/core/indexing.py\u001B[0m in \u001B[0;36m_getitem_iterable\u001B[0;34m(self, key, axis)\u001B[0m\n\u001B[1;32m   1130\u001B[0m \u001B[0;34m\u001B[0m\u001B[0m\n\u001B[1;32m   1131\u001B[0m         \u001B[0;31m# A collection of keys\u001B[0m\u001B[0;34m\u001B[0m\u001B[0;34m\u001B[0m\u001B[0m\n\u001B[0;32m-> 1132\u001B[0;31m         \u001B[0mkeyarr\u001B[0m\u001B[0;34m,\u001B[0m \u001B[0mindexer\u001B[0m \u001B[0;34m=\u001B[0m \u001B[0mself\u001B[0m\u001B[0;34m.\u001B[0m\u001B[0m_get_listlike_indexer\u001B[0m\u001B[0;34m(\u001B[0m\u001B[0mkey\u001B[0m\u001B[0;34m,\u001B[0m \u001B[0maxis\u001B[0m\u001B[0;34m)\u001B[0m\u001B[0;34m\u001B[0m\u001B[0;34m\u001B[0m\u001B[0m\n\u001B[0m\u001B[1;32m   1133\u001B[0m         return self.obj._reindex_with_indexers(\n\u001B[1;32m   1134\u001B[0m             \u001B[0;34m{\u001B[0m\u001B[0maxis\u001B[0m\u001B[0;34m:\u001B[0m \u001B[0;34m[\u001B[0m\u001B[0mkeyarr\u001B[0m\u001B[0;34m,\u001B[0m \u001B[0mindexer\u001B[0m\u001B[0;34m]\u001B[0m\u001B[0;34m}\u001B[0m\u001B[0;34m,\u001B[0m \u001B[0mcopy\u001B[0m\u001B[0;34m=\u001B[0m\u001B[0;32mTrue\u001B[0m\u001B[0;34m,\u001B[0m \u001B[0mallow_dups\u001B[0m\u001B[0;34m=\u001B[0m\u001B[0;32mTrue\u001B[0m\u001B[0;34m\u001B[0m\u001B[0;34m\u001B[0m\u001B[0m\n",
      "\u001B[0;32m~/opt/anaconda3/lib/python3.9/site-packages/pandas/core/indexing.py\u001B[0m in \u001B[0;36m_get_listlike_indexer\u001B[0;34m(self, key, axis)\u001B[0m\n\u001B[1;32m   1328\u001B[0m         \u001B[0maxis_name\u001B[0m \u001B[0;34m=\u001B[0m \u001B[0mself\u001B[0m\u001B[0;34m.\u001B[0m\u001B[0mobj\u001B[0m\u001B[0;34m.\u001B[0m\u001B[0m_get_axis_name\u001B[0m\u001B[0;34m(\u001B[0m\u001B[0maxis\u001B[0m\u001B[0;34m)\u001B[0m\u001B[0;34m\u001B[0m\u001B[0;34m\u001B[0m\u001B[0m\n\u001B[1;32m   1329\u001B[0m \u001B[0;34m\u001B[0m\u001B[0m\n\u001B[0;32m-> 1330\u001B[0;31m         \u001B[0mkeyarr\u001B[0m\u001B[0;34m,\u001B[0m \u001B[0mindexer\u001B[0m \u001B[0;34m=\u001B[0m \u001B[0max\u001B[0m\u001B[0;34m.\u001B[0m\u001B[0m_get_indexer_strict\u001B[0m\u001B[0;34m(\u001B[0m\u001B[0mkey\u001B[0m\u001B[0;34m,\u001B[0m \u001B[0maxis_name\u001B[0m\u001B[0;34m)\u001B[0m\u001B[0;34m\u001B[0m\u001B[0;34m\u001B[0m\u001B[0m\n\u001B[0m\u001B[1;32m   1331\u001B[0m \u001B[0;34m\u001B[0m\u001B[0m\n\u001B[1;32m   1332\u001B[0m         \u001B[0;32mreturn\u001B[0m \u001B[0mkeyarr\u001B[0m\u001B[0;34m,\u001B[0m \u001B[0mindexer\u001B[0m\u001B[0;34m\u001B[0m\u001B[0;34m\u001B[0m\u001B[0m\n",
      "\u001B[0;32m~/opt/anaconda3/lib/python3.9/site-packages/pandas/core/indexes/base.py\u001B[0m in \u001B[0;36m_get_indexer_strict\u001B[0;34m(self, key, axis_name)\u001B[0m\n\u001B[1;32m   5794\u001B[0m             \u001B[0mkeyarr\u001B[0m\u001B[0;34m,\u001B[0m \u001B[0mindexer\u001B[0m\u001B[0;34m,\u001B[0m \u001B[0mnew_indexer\u001B[0m \u001B[0;34m=\u001B[0m \u001B[0mself\u001B[0m\u001B[0;34m.\u001B[0m\u001B[0m_reindex_non_unique\u001B[0m\u001B[0;34m(\u001B[0m\u001B[0mkeyarr\u001B[0m\u001B[0;34m)\u001B[0m\u001B[0;34m\u001B[0m\u001B[0;34m\u001B[0m\u001B[0m\n\u001B[1;32m   5795\u001B[0m \u001B[0;34m\u001B[0m\u001B[0m\n\u001B[0;32m-> 5796\u001B[0;31m         \u001B[0mself\u001B[0m\u001B[0;34m.\u001B[0m\u001B[0m_raise_if_missing\u001B[0m\u001B[0;34m(\u001B[0m\u001B[0mkeyarr\u001B[0m\u001B[0;34m,\u001B[0m \u001B[0mindexer\u001B[0m\u001B[0;34m,\u001B[0m \u001B[0maxis_name\u001B[0m\u001B[0;34m)\u001B[0m\u001B[0;34m\u001B[0m\u001B[0;34m\u001B[0m\u001B[0m\n\u001B[0m\u001B[1;32m   5797\u001B[0m \u001B[0;34m\u001B[0m\u001B[0m\n\u001B[1;32m   5798\u001B[0m         \u001B[0mkeyarr\u001B[0m \u001B[0;34m=\u001B[0m \u001B[0mself\u001B[0m\u001B[0;34m.\u001B[0m\u001B[0mtake\u001B[0m\u001B[0;34m(\u001B[0m\u001B[0mindexer\u001B[0m\u001B[0;34m)\u001B[0m\u001B[0;34m\u001B[0m\u001B[0;34m\u001B[0m\u001B[0m\n",
      "\u001B[0;32m~/opt/anaconda3/lib/python3.9/site-packages/pandas/core/indexes/base.py\u001B[0m in \u001B[0;36m_raise_if_missing\u001B[0;34m(self, key, indexer, axis_name)\u001B[0m\n\u001B[1;32m   5857\u001B[0m \u001B[0;34m\u001B[0m\u001B[0m\n\u001B[1;32m   5858\u001B[0m             \u001B[0mnot_found\u001B[0m \u001B[0;34m=\u001B[0m \u001B[0mlist\u001B[0m\u001B[0;34m(\u001B[0m\u001B[0mensure_index\u001B[0m\u001B[0;34m(\u001B[0m\u001B[0mkey\u001B[0m\u001B[0;34m)\u001B[0m\u001B[0;34m[\u001B[0m\u001B[0mmissing_mask\u001B[0m\u001B[0;34m.\u001B[0m\u001B[0mnonzero\u001B[0m\u001B[0;34m(\u001B[0m\u001B[0;34m)\u001B[0m\u001B[0;34m[\u001B[0m\u001B[0;36m0\u001B[0m\u001B[0;34m]\u001B[0m\u001B[0;34m]\u001B[0m\u001B[0;34m.\u001B[0m\u001B[0munique\u001B[0m\u001B[0;34m(\u001B[0m\u001B[0;34m)\u001B[0m\u001B[0;34m)\u001B[0m\u001B[0;34m\u001B[0m\u001B[0;34m\u001B[0m\u001B[0m\n\u001B[0;32m-> 5859\u001B[0;31m             \u001B[0;32mraise\u001B[0m \u001B[0mKeyError\u001B[0m\u001B[0;34m(\u001B[0m\u001B[0;34mf\"{not_found} not in index\"\u001B[0m\u001B[0;34m)\u001B[0m\u001B[0;34m\u001B[0m\u001B[0;34m\u001B[0m\u001B[0m\n\u001B[0m\u001B[1;32m   5860\u001B[0m \u001B[0;34m\u001B[0m\u001B[0m\n\u001B[1;32m   5861\u001B[0m     \u001B[0;34m@\u001B[0m\u001B[0moverload\u001B[0m\u001B[0;34m\u001B[0m\u001B[0;34m\u001B[0m\u001B[0m\n",
      "\u001B[0;31mKeyError\u001B[0m: '[207] not in index'"
     ]
    }
   ],
   "source": [
    "# criteria(new_df_test.copy(), knn(new_df_test.copy(), new_df_train.copy(), train_target.copy(), 2))\n",
    "knn(new_df_test.copy(), new_df_train.copy(), train_target.copy(), 4)\n",
    "# new_df_test"
   ]
  },
  {
   "cell_type": "markdown",
   "metadata": {},
   "source": [
    "Посчитайте значение предложенного ранее критерия качества для метода ближайшего соседа для значений $k$ от 1 до 10. Постройте график зависимости критерия качества от $k$. Как вы можете пояснить полученные результаты?"
   ]
  },
  {
   "cell_type": "code",
   "execution_count": null,
   "metadata": {},
   "outputs": [],
   "source": [
    "for i in range(1, 10):\n",
    "    print(criteria(new_df_test, knn(new_df_test, new_df_train, train_target, i)))"
   ]
  },
  {
   "cell_type": "markdown",
   "metadata": {},
   "source": [
    "#### 6. Выводы"
   ]
  },
  {
   "cell_type": "markdown",
   "metadata": {},
   "source": [
    "..."
   ]
  },
  {
   "cell_type": "markdown",
   "metadata": {},
   "source": [
    "\n",
    "---\n",
    "### <font color=\"orange\"><i>Сложная часть</i></font>"
   ]
  },
  {
   "cell_type": "markdown",
   "metadata": {},
   "source": [
    "### Задача 2"
   ]
  },
  {
   "attachments": {
    "Yelp_Logo_No_Outline_Color.jpg": {
     "image/jpeg": "[encoded data removed]"
    }
   },
   "cell_type": "markdown",
   "metadata": {},
   "source": [
    "<a target=\"_blank\" href=\"yelp.com\">Yelp</a> — веб-сайт для поиска на местном рынке услуг, например ресторанов или парикмахерских, с возможностью добавлять и просматривать рейтинги и обзоры этих услуг. Для популярных бизнесов имеются сотни обзоров. Для обозревателей на сайте предусмотрены элементы социальной сети.\n",
    "\n",
    "![Yelp_Logo_No_Outline_Color.jpg](attachment:Yelp_Logo_No_Outline_Color.jpg)\n",
    "\n",
    "_____________\n",
    "\n",
    "Вам предоставляется следующая информация о компаниях на Yelp:\n",
    "\n",
    "Файл `yelp_business.csv`:\n",
    "* `business_id` — уникальный идентификатор компании;\n",
    "* `name` — имя компании;\n",
    "* `address`, `city`, `state` — месторасположении компании;\n",
    "* `latitude`, `longitude` — географические координаты;\n",
    "* `categories` — категории услуг компании.\n",
    "\n",
    "Файл `yelp_review.csv`, содержащий оценки пользователей:\n",
    "* `business_id` — идентификатор компании, соответствующий файлу `yelp_business.csv`;\n",
    "* `stars` — поставленная пользователем оценка от 1 до 5.\n",
    "\n",
    "В целях сокращения объема файла, текстовые отзывы пользователей не были включены.\n",
    "\n",
    "Оригинальную версию датасета в формате `json` можно посмотреть по <a target=\"_blank\" href=\"https://www.kaggle.com/yelp-dataset/yelp-dataset/data\">ссылке</a>.\n",
    "\n",
    "_____________\n",
    "\n",
    "**Что нужно сделать:** \n",
    "\n",
    "* Найти город с наибольшим количеством компаний;\n",
    "* Для этого города определить районы с наиболее качественными услугами. <a target=\"_blank\" href=\"https://yandex.ru/company/researches/2017/msk_mobile_map\">Пример</a> с несколько другой задачей.\n",
    "* А также найти рестораны с наилучшими отзывами.\n",
    "\n",
    "------"
   ]
  },
  {
   "cell_type": "markdown",
   "metadata": {},
   "source": [
    "#### Город с наибольшим количеством компаний\n",
    "\n",
    "Загрузите данные из файла `yelp_business.csv` с помощью функции `pd.read_csv`. Посмотрите на первые несколько строк с помощью метода `head`."
   ]
  },
  {
   "cell_type": "code",
   "execution_count": null,
   "metadata": {},
   "outputs": [],
   "source": [
    "..."
   ]
  },
  {
   "cell_type": "markdown",
   "metadata": {},
   "source": [
    "Найдите пять городов, по которым присутствует информация о наибольшем количестве компаний. В таблице должен быть указан город (название) и количество компаний в этом городе.\n",
    "\n",
    "*Подсказка.* Для выполнения стоит воспользоваться методами `groupby`, `count`, `sort_values`, `head`."
   ]
  },
  {
   "cell_type": "code",
   "execution_count": null,
   "metadata": {},
   "outputs": [],
   "source": [
    "..."
   ]
  },
  {
   "cell_type": "markdown",
   "metadata": {},
   "source": [
    "Пусть `N` &mdash; город с наибольшим количеством компаний. Оставьте в таблице только записи, соответствующие городу `N`. Нанесите все эти компании на график, в котором по оси $x$ отметьте долготу, а по оси $y$ &mdash; широту."
   ]
  },
  {
   "cell_type": "code",
   "execution_count": null,
   "metadata": {},
   "outputs": [],
   "source": [
    "..."
   ]
  },
  {
   "cell_type": "markdown",
   "metadata": {},
   "source": [
    "Сам город находится в сгустке точек. Есть какие-то компании, которые приписаны к этому городу, но находятся далеко от него. Избавьтесь от них, подобрав некоторые границы значений широты и долготы. Изобразите все компании на новом графике. На этом графике должны выделяться некоторые улицы. "
   ]
  },
  {
   "cell_type": "code",
   "execution_count": null,
   "metadata": {},
   "outputs": [],
   "source": [
    "..."
   ]
  },
  {
   "cell_type": "markdown",
   "metadata": {},
   "source": [
    "Разберитесь с тем, как подгрузить интерактивную карту города в качестве фона графика. Можно пойти двумя следующими способами.\n",
    "1. Изучить <a href=\"https://miptstats.github.io/courses/python/11_plotly.html\" target=\"_blank\">материалы</a> по библиотеке <a href=\"https://plotly.com/python/\" target=\"_blank\"><b>Plotly</b></a>. Возможно, потребуется также заглянуть в документацию.\n",
    "1. Поразбираться с библиотекой <a href=\"https://github.com/python-visualization/folium\" target=\"_blank\"><b>Folium</b></a>. Посмотрите множество <a href=\"https://nbviewer.org/github/python-visualization/folium/tree/main/examples/\" target=\"_blank\">примеров</a>, может также помочь <a href=\"https://proglib.io/p/python-web-map\" target=\"_blank\">статья на русском</a>.\n",
    "\n",
    "*Внимание!* Интерактивная карта может не сохраниться в ноутбуке, а если сохранится, то вес ноутбука может превзойти 20 Мб. Рекомендуется сохранить карту в html и отправить ее отдельным файлом в бот."
   ]
  },
  {
   "cell_type": "code",
   "execution_count": null,
   "metadata": {},
   "outputs": [],
   "source": [
    "..."
   ]
  },
  {
   "cell_type": "markdown",
   "metadata": {},
   "source": [
    "Если все получилось, вы молодцы! Далее в этой задаче тоже можно делать интерактивные карты."
   ]
  },
  {
   "cell_type": "markdown",
   "metadata": {},
   "source": [
    "#### Оценки компаний\n",
    "\n",
    "Для выполнения задания нужно посчитать среднюю оценку каждой компании, а также количество выставленных оценок.\n",
    "\n",
    "Загрузите таблицу оценок `yelp_review.csv`."
   ]
  },
  {
   "cell_type": "code",
   "execution_count": null,
   "metadata": {},
   "outputs": [],
   "source": [
    "..."
   ]
  },
  {
   "cell_type": "markdown",
   "metadata": {},
   "source": [
    "В подгруженной таблице оценок оставьте только компании города `N`. Для этого установите значения `business_id` в качестве индекса у таблицы оценок и воспользуйтесь методом `loc`. \n",
    "\n",
    "*Подсказка.* Чтобы индекс снова сделать полем таблицы, можно воспользоваться методом `reset_index`."
   ]
  },
  {
   "cell_type": "code",
   "execution_count": null,
   "metadata": {},
   "outputs": [],
   "source": [
    "..."
   ]
  },
  {
   "cell_type": "markdown",
   "metadata": {},
   "source": [
    "Теперь посчитайте среднюю оценку каждой компании, а также количество выставленных компании оценок. \n",
    "\n",
    "*Подсказка.* Помочь в этом могут функции `groupby` и `aggregate([np.mean, np.size])`."
   ]
  },
  {
   "cell_type": "code",
   "execution_count": null,
   "metadata": {},
   "outputs": [],
   "source": [
    "..."
   ]
  },
  {
   "cell_type": "markdown",
   "metadata": {},
   "source": [
    "Назовите колонки таблицы красивыми именами, изменив `<имя таблицы>.columns`, после чего напечатайте несколько строк полученной таблицы. Красивые имена &mdash; то, что будет понятно простому человеку при чтении ваших результатов. Как именно их назвать &mdash; задача аналитика, то есть в данном случае ваша :)"
   ]
  },
  {
   "cell_type": "code",
   "execution_count": null,
   "metadata": {},
   "outputs": [],
   "source": [
    "..."
   ]
  },
  {
   "cell_type": "markdown",
   "metadata": {},
   "source": [
    "Соедините две полученные ранее таблицы по компаниям города `N` в одну.\n",
    "Для этого сначала установите поле `business_id` в качестве индекса в обеих таблицах с помощью `set_index`. В одной из них это уже должно было быть сделано.\n",
    "В полученной таблице должны получится поля `latitude`, `longitude`, `categories`, `name`, `stars`, `count`.\n",
    "\n",
    "*Подсказка.* Соединение таблиц можно выполнить с помощью `join`.\n",
    "Индексы у этих таблиц одинаковые, так что тип джойна не имеет значения."
   ]
  },
  {
   "cell_type": "code",
   "execution_count": null,
   "metadata": {},
   "outputs": [],
   "source": [
    "..."
   ]
  },
  {
   "cell_type": "markdown",
   "metadata": {},
   "source": [
    "Изобразите все компании на графике, раскрасив точку в цвет, оттенок которого соответствует средней оценке компании. Прозрачность точки выставляйте не более $0.3$."
   ]
  },
  {
   "cell_type": "code",
   "execution_count": null,
   "metadata": {},
   "outputs": [],
   "source": [
    "..."
   ]
  },
  {
   "cell_type": "markdown",
   "metadata": {},
   "source": [
    "Чтобы получить районы города, то есть разделить город на \"клетки\", округлите значения широты и долготы, подобрав оптимальный размер района. \n",
    "\n",
    "*Подсказка.* Например, можно сделать так\n",
    "`np.round(долгота*4, decimals=1)*0.25`."
   ]
  },
  {
   "cell_type": "code",
   "execution_count": null,
   "metadata": {},
   "outputs": [],
   "source": [
    "..."
   ]
  },
  {
   "cell_type": "markdown",
   "metadata": {},
   "source": [
    "Для получения средней оценки компании по району постройте сводную таблицу при помощи `pd.pivot_table`, взяв в качестве индексов и колонок округленные широту и долготу, а в качестве значений &mdash; оценки. Аггрегирующей функцией является среднее.\n",
    "\n",
    "Изобразите полученную таблицу при помощи `sns.heatmap`."
   ]
  },
  {
   "cell_type": "code",
   "execution_count": null,
   "metadata": {},
   "outputs": [],
   "source": [
    "..."
   ]
  },
  {
   "cell_type": "markdown",
   "metadata": {},
   "source": [
    "Полученный график имеет ряд недостатков. Во-первых, не очень правильно судить о районе, если в нем мало компаний. Во-вторых,  на графике цветовая гамма автоматически подстроилась под минимальное и максимальное значения оценки.\n",
    "\n",
    "Почему эти недостатки могут быть существенными?\n",
    "\n",
    "**Ответ:** <...>"
   ]
  },
  {
   "cell_type": "markdown",
   "metadata": {},
   "source": [
    "Оставьте районы, в которых имеется информация о не менее $30$ компаний. Постройте новый график районов, использовав параметры `vmin` и `vmax` у функции `sns.heatmap`."
   ]
  },
  {
   "cell_type": "code",
   "execution_count": null,
   "metadata": {},
   "outputs": [],
   "source": [
    "..."
   ]
  },
  {
   "cell_type": "markdown",
   "metadata": {},
   "source": [
    "Сравните полученный график с предыдущим и сделайте вывод.\n",
    "\n",
    "**Вывод:** <...>"
   ]
  },
  {
   "cell_type": "markdown",
   "metadata": {},
   "source": [
    "#### Рестораны\n",
    "\n",
    "Будем считать компанию рестораном, если в поле `categories` *содержится* слово `restaurant`. Обратите внимание, что в анализе данных часто нет четкого формата данных. Например, данное слово может быть написано как с большой буквы, так и с маленькой; может как разделяться `;`, так и не разделяться. При возникновении недопонимания стоит посмотреть данные.\n",
    "\n",
    "Составьте таблицу, в которой будет информация о всех ресторанах города `N`, для которых имеется не менее $5$ отзывов. Далее постройте heatmap-график районов, в котором каждому району сопоставьте среднюю оценку по ресторанам этого района. Рассматривайте только те районы, в которых есть не менее $10$ ресторанов, для каждого из которых есть не менее $5$ отзывов."
   ]
  },
  {
   "cell_type": "code",
   "execution_count": null,
   "metadata": {},
   "outputs": [],
   "source": [
    "..."
   ]
  },
  {
   "cell_type": "markdown",
   "metadata": {},
   "source": [
    "Чем полезны ограничения снизу на количество отзывов для ресторана и количество ресторанов в районе?\n",
    "\n",
    "**Ответ:** <...>"
   ]
  },
  {
   "cell_type": "markdown",
   "metadata": {},
   "source": [
    "Кот Василий из города `N` очень придирчив к выбору ресторана. Он доверяет только ресторанам с высоким рейтингом, который основывается на большом количестве отзывов. Напечатайте в виде таблицы информацию $10$ ресторанах с самым большим рейтингом в порядке убывания рейтинга. Для каждого из этих ресторанов должно быть не менее $50$ отзывов. По каждому ресторану необходимо вывести следующую информации: название ресторана, средняя оценка, количество отзывов, географические координаты, категории."
   ]
  },
  {
   "cell_type": "code",
   "execution_count": null,
   "metadata": {},
   "outputs": [],
   "source": [
    "..."
   ]
  },
  {
   "cell_type": "markdown",
   "metadata": {},
   "source": [
    "Нанесите на карту все рестораны со средней оценкой не менее $4.7$, которая посчитана по не менее $50$ отзывам. Отдельным цветом отметьте 10 ресторанов, которые вы получили ранее."
   ]
  },
  {
   "cell_type": "code",
   "execution_count": null,
   "metadata": {},
   "outputs": [],
   "source": [
    "..."
   ]
  },
  {
   "cell_type": "markdown",
   "metadata": {},
   "source": [
    "Охарактеризуйте кота Василия, а также сделайте общий вывод по задаче.\n",
    "\n",
    "**Вывод:** <...>"
   ]
  }
 ],
 "metadata": {
  "colab": {
   "collapsed_sections": [],
   "name": "stats.ipynb",
   "provenance": [],
   "version": "0.3.2"
  },
  "kernelspec": {
   "display_name": "Python 3 (ipykernel)",
   "language": "python",
   "name": "python3"
  },
  "language_info": {
   "codemirror_mode": {
    "name": "ipython",
    "version": 3
   },
   "file_extension": ".py",
   "mimetype": "text/x-python",
   "name": "python",
   "nbconvert_exporter": "python",
   "pygments_lexer": "ipython3",
   "version": "3.9.13"
  }
 },
 "nbformat": 4,
 "nbformat_minor": 1
}
